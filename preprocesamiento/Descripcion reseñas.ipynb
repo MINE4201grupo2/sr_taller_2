{
 "cells": [
  {
   "cell_type": "markdown",
   "metadata": {},
   "source": [
    "# Exploratory Analysis of the Reviews"
   ]
  },
  {
   "cell_type": "code",
   "execution_count": 3,
   "metadata": {},
   "outputs": [],
   "source": [
    "import pandas as pd\n",
    "import numpy as np\n",
    "import seaborn as sns\n",
    "import pandas as pd\n",
    "import numpy as np\n",
    "import seaborn as sns\n",
    "from ast import literal_eval\n",
    "from collections import Counter\n",
    "from pandas.io.json import json_normalize\n",
    "import matplotlib.pyplot as plt # for Data visualization\n",
    "\n",
    "%matplotlib inline\n"
   ]
  },
  {
   "cell_type": "markdown",
   "metadata": {},
   "source": [
    "## Se usa sólo el primer chunk"
   ]
  },
  {
   "cell_type": "code",
   "execution_count": 17,
   "metadata": {},
   "outputs": [],
   "source": [
    "review_json_path = './yelp_dataset/yelp_academic_dataset_review.json'\n",
    "i= 0\n",
    "size= 10000\n",
    "df= pd.DataFrame()"
   ]
  },
  {
   "cell_type": "code",
   "execution_count": 18,
   "metadata": {},
   "outputs": [
    {
     "name": "stdout",
     "output_type": "stream",
     "text": [
      "10000 out of 10,000 \n"
     ]
    }
   ],
   "source": [
    "with  pd.read_json(review_json_path, lines=True,chunksize=size) as reader:\n",
    "    for chunk in reader:\n",
    "        print(f\"{chunk.shape[0]} out of {size:,} \")\n",
    "        df = df.append(chunk)\n",
    "        if i==0:\n",
    "            break;"
   ]
  },
  {
   "cell_type": "code",
   "execution_count": 19,
   "metadata": {
    "scrolled": true
   },
   "outputs": [
    {
     "name": "stdout",
     "output_type": "stream",
     "text": [
      "10000\n"
     ]
    }
   ],
   "source": [
    "print(len(df))"
   ]
  },
  {
   "cell_type": "code",
   "execution_count": 20,
   "metadata": {},
   "outputs": [],
   "source": [
    "#df"
   ]
  },
  {
   "cell_type": "markdown",
   "metadata": {},
   "source": [
    "## Analysis of Cross-Features"
   ]
  },
  {
   "cell_type": "code",
   "execution_count": 24,
   "metadata": {},
   "outputs": [],
   "source": [
    "df['is_useful'] = df.useful.apply(lambda v: int(v > 0))\n",
    "df['is_cool'] = df.cool.apply(lambda v: int(v > 0))\n",
    "df['is_funny'] = df.funny.apply(lambda v: int(v > 0))\n",
    "\n",
    "df['is_funny_useful'] = df.apply(lambda row: row.is_funny and row.is_useful, axis=1)\n",
    "df['is_funny_cool'] = df.apply(lambda row: row.is_funny and row.is_cool, axis=1)\n",
    "df['is_useful_cool'] = df.apply(lambda row: row.is_useful and row.is_cool, axis=1)\n",
    "df['is_all'] = df.apply(lambda row: row.is_funny and row.is_cool and row.is_useful, axis=1)"
   ]
  },
  {
   "cell_type": "code",
   "execution_count": 25,
   "metadata": {},
   "outputs": [],
   "source": [
    "df_dist = df.groupby('stars').agg({'is_funny': sum,\n",
    "                                   'is_cool': sum,\n",
    "                                   'is_useful': sum,\n",
    "                                   'is_funny_useful': sum,\n",
    "                                   'is_funny_cool': sum,\n",
    "                                   'is_useful_cool': sum,\n",
    "                                   'is_all': sum,\n",
    "                                   'stars': len})"
   ]
  },
  {
   "cell_type": "code",
   "execution_count": 26,
   "metadata": {},
   "outputs": [],
   "source": [
    "fields = ['is_cool', 'is_useful', 'is_funny', 'is_funny_useful', 'is_funny_cool', 'is_useful_cool', 'is_all']\n",
    "for field in fields:\n",
    "    df_dist[field] = df_dist[field] / df_dist.stars"
   ]
  },
  {
   "cell_type": "markdown",
   "metadata": {},
   "source": [
    "## Distribution of Stars"
   ]
  },
  {
   "cell_type": "code",
   "execution_count": 27,
   "metadata": {},
   "outputs": [
    {
     "data": {
      "text/plain": [
       "[Text(0.5, 0, 'Stars'),\n",
       " Text(0, 0.5, '# Reviews'),\n",
       " Text(0.5, 1.0, 'Distribution of Stars')]"
      ]
     },
     "execution_count": 27,
     "metadata": {},
     "output_type": "execute_result"
    },
    {
     "data": {
      "image/png": "[encoded data removed]",
      "text/plain": [
       "<Figure size 432x288 with 1 Axes>"
      ]
     },
     "metadata": {
      "needs_background": "light"
     },
     "output_type": "display_data"
    }
   ],
   "source": [
    "g = df_dist['stars'].plot(kind='bar')\n",
    "g.set(xlabel='Stars', ylabel='# Reviews', title='Distribution of Stars')"
   ]
  },
  {
   "cell_type": "markdown",
   "metadata": {},
   "source": [
    "## Proportions of features/cross-features by stars"
   ]
  },
  {
   "cell_type": "code",
   "execution_count": 28,
   "metadata": {},
   "outputs": [
    {
     "name": "stderr",
     "output_type": "stream",
     "text": [
      "<ipython-input-28-ae41a573b0c4>:2: UserWarning: FixedFormatter should only be used together with FixedLocator\n",
      "  g.set(xlabel='Stars', xticklabels=[1,'',2,'',3,'',4,'',5], ylabel='Proportion', title='Features by Stars')\n"
     ]
    },
    {
     "data": {
      "text/plain": [
       "[Text(0.5, 0, 'Stars'),\n",
       " [Text(0.5, 0, '1'),\n",
       "  Text(1.0, 0, ''),\n",
       "  Text(1.5, 0, '2'),\n",
       "  Text(2.0, 0, ''),\n",
       "  Text(2.5, 0, '3'),\n",
       "  Text(3.0, 0, ''),\n",
       "  Text(3.5, 0, '4'),\n",
       "  Text(4.0, 0, ''),\n",
       "  Text(4.5, 0, '5'),\n",
       "  Text(5.0, 0, ''),\n",
       "  Text(5.5, 0, '')],\n",
       " Text(0, 0.5, 'Proportion'),\n",
       " Text(0.5, 1.0, 'Features by Stars')]"
      ]
     },
     "execution_count": 28,
     "metadata": {},
     "output_type": "execute_result"
    },
    {
     "data": {
      "image/png": "[encoded data removed]",
      "text/plain": [
       "<Figure size 432x288 with 1 Axes>"
      ]
     },
     "metadata": {
      "needs_background": "light"
     },
     "output_type": "display_data"
    }
   ],
   "source": [
    "g = df_dist[['is_cool', 'is_useful', 'is_funny', 'is_funny_useful', 'is_funny_cool', 'is_useful_cool', 'is_all']].plot()\n",
    "g.set(xlabel='Stars', xticklabels=[1,'',2,'',3,'',4,'',5], ylabel='Proportion', title='Features by Stars')"
   ]
  },
  {
   "cell_type": "code",
   "execution_count": 29,
   "metadata": {},
   "outputs": [
    {
     "data": {
      "text/html": [
       "<div>\n",
       "<style scoped>\n",
       "    .dataframe tbody tr th:only-of-type {\n",
       "        vertical-align: middle;\n",
       "    }\n",
       "\n",
       "    .dataframe tbody tr th {\n",
       "        vertical-align: top;\n",
       "    }\n",
       "\n",
       "    .dataframe thead th {\n",
       "        text-align: right;\n",
       "    }\n",
       "</style>\n",
       "<table border=\"1\" class=\"dataframe\">\n",
       "  <thead>\n",
       "    <tr style=\"text-align: right;\">\n",
       "      <th></th>\n",
       "      <th>is_cool</th>\n",
       "      <th>is_useful</th>\n",
       "      <th>is_funny</th>\n",
       "      <th>is_funny_useful</th>\n",
       "      <th>is_funny_cool</th>\n",
       "      <th>is_useful_cool</th>\n",
       "      <th>is_all</th>\n",
       "      <th>stars</th>\n",
       "    </tr>\n",
       "    <tr>\n",
       "      <th>stars</th>\n",
       "      <th></th>\n",
       "      <th></th>\n",
       "      <th></th>\n",
       "      <th></th>\n",
       "      <th></th>\n",
       "      <th></th>\n",
       "      <th></th>\n",
       "      <th></th>\n",
       "    </tr>\n",
       "  </thead>\n",
       "  <tbody>\n",
       "    <tr>\n",
       "      <th>1</th>\n",
       "      <td>0.123834</td>\n",
       "      <td>0.571671</td>\n",
       "      <td>0.238338</td>\n",
       "      <td>0.192536</td>\n",
       "      <td>0.082273</td>\n",
       "      <td>0.117048</td>\n",
       "      <td>0.081425</td>\n",
       "      <td>1179</td>\n",
       "    </tr>\n",
       "    <tr>\n",
       "      <th>2</th>\n",
       "      <td>0.155012</td>\n",
       "      <td>0.502331</td>\n",
       "      <td>0.228438</td>\n",
       "      <td>0.175991</td>\n",
       "      <td>0.102564</td>\n",
       "      <td>0.136364</td>\n",
       "      <td>0.099068</td>\n",
       "      <td>858</td>\n",
       "    </tr>\n",
       "    <tr>\n",
       "      <th>3</th>\n",
       "      <td>0.180017</td>\n",
       "      <td>0.373245</td>\n",
       "      <td>0.170107</td>\n",
       "      <td>0.132948</td>\n",
       "      <td>0.098266</td>\n",
       "      <td>0.151115</td>\n",
       "      <td>0.095789</td>\n",
       "      <td>1211</td>\n",
       "    </tr>\n",
       "    <tr>\n",
       "      <th>4</th>\n",
       "      <td>0.252932</td>\n",
       "      <td>0.410868</td>\n",
       "      <td>0.163800</td>\n",
       "      <td>0.136826</td>\n",
       "      <td>0.118843</td>\n",
       "      <td>0.219703</td>\n",
       "      <td>0.114543</td>\n",
       "      <td>2558</td>\n",
       "    </tr>\n",
       "    <tr>\n",
       "      <th>5</th>\n",
       "      <td>0.216977</td>\n",
       "      <td>0.390796</td>\n",
       "      <td>0.127563</td>\n",
       "      <td>0.108488</td>\n",
       "      <td>0.090129</td>\n",
       "      <td>0.181688</td>\n",
       "      <td>0.087506</td>\n",
       "      <td>4194</td>\n",
       "    </tr>\n",
       "  </tbody>\n",
       "</table>\n",
       "</div>"
      ],
      "text/plain": [
       "        is_cool  is_useful  is_funny  is_funny_useful  is_funny_cool  \\\n",
       "stars                                                                  \n",
       "1      0.123834   0.571671  0.238338         0.192536       0.082273   \n",
       "2      0.155012   0.502331  0.228438         0.175991       0.102564   \n",
       "3      0.180017   0.373245  0.170107         0.132948       0.098266   \n",
       "4      0.252932   0.410868  0.163800         0.136826       0.118843   \n",
       "5      0.216977   0.390796  0.127563         0.108488       0.090129   \n",
       "\n",
       "       is_useful_cool    is_all  stars  \n",
       "stars                                   \n",
       "1            0.117048  0.081425   1179  \n",
       "2            0.136364  0.099068    858  \n",
       "3            0.151115  0.095789   1211  \n",
       "4            0.219703  0.114543   2558  \n",
       "5            0.181688  0.087506   4194  "
      ]
     },
     "execution_count": 29,
     "metadata": {},
     "output_type": "execute_result"
    }
   ],
   "source": [
    "df_dist[['is_cool', 'is_useful', 'is_funny', 'is_funny_useful', 'is_funny_cool', 'is_useful_cool', 'is_all', 'stars']]"
   ]
  },
  {
   "cell_type": "markdown",
   "metadata": {},
   "source": [
    "## Cumulative distribution of reviews over businesses"
   ]
  },
  {
   "cell_type": "code",
   "execution_count": 30,
   "metadata": {},
   "outputs": [
    {
     "name": "stdout",
     "output_type": "stream",
     "text": [
      "4299\n"
     ]
    }
   ],
   "source": [
    "print(len(df.business_id.unique()))"
   ]
  },
  {
   "cell_type": "code",
   "execution_count": 32,
   "metadata": {},
   "outputs": [
    {
     "data": {
      "text/plain": [
       "[Text(0.5, 0, '# of Businesses'), Text(0, 0.5, 'Coverage')]"
      ]
     },
     "execution_count": 32,
     "metadata": {},
     "output_type": "execute_result"
    },
    {
     "data": {
      "image/png": "[encoded data removed]",
      "text/plain": [
       "<Figure size 432x288 with 1 Axes>"
      ]
     },
     "metadata": {
      "needs_background": "light"
     },
     "output_type": "display_data"
    }
   ],
   "source": [
    "cumulative_rev_count = np.cumsum(sorted(df.groupby('business_id').agg({'user_id': len}).user_id.values, reverse=True))\n",
    "g = plt.plot(cumulative_rev_count / float(cumulative_rev_count[-1]))\n",
    "g[0].axes.set(xlabel='# of Businesses', ylabel='Coverage')"
   ]
  },
  {
   "cell_type": "markdown",
   "metadata": {},
   "source": [
    "## Distribution of review counts by businesses"
   ]
  },
  {
   "cell_type": "code",
   "execution_count": 33,
   "metadata": {},
   "outputs": [
    {
     "data": {
      "text/plain": [
       "(array([3.832e+03, 3.520e+02, 6.900e+01, 2.500e+01, 8.000e+00, 8.000e+00,\n",
       "        1.000e+00, 0.000e+00, 2.000e+00]),\n",
       " array([ 0,  5, 10, 15, 20, 25, 30, 35, 40, 45]),\n",
       " <BarContainer object of 9 artists>)"
      ]
     },
     "execution_count": 33,
     "metadata": {},
     "output_type": "execute_result"
    },
    {
     "data": {
      "image/png": "[encoded data removed]",
      "text/plain": [
       "<Figure size 432x288 with 1 Axes>"
      ]
     },
     "metadata": {
      "needs_background": "light"
     },
     "output_type": "display_data"
    }
   ],
   "source": [
    "plt.hist(df.groupby('business_id').agg({'user_id': len}).user_id.values, bins=range(0,50,5))"
   ]
  },
  {
   "cell_type": "markdown",
   "metadata": {},
   "source": [
    "## Cumulative distribution of reviews over users"
   ]
  },
  {
   "cell_type": "code",
   "execution_count": 34,
   "metadata": {},
   "outputs": [
    {
     "name": "stdout",
     "output_type": "stream",
     "text": [
      "238409\n"
     ]
    }
   ],
   "source": [
    "print(len(df.user_id.unique()))"
   ]
  },
  {
   "cell_type": "code",
   "execution_count": 34,
   "metadata": {},
   "outputs": [
    {
     "data": {
      "text/plain": [
       "[Text(0.5, 0, '# of Users'), Text(0, 0.5, 'Coverage')]"
      ]
     },
     "execution_count": 34,
     "metadata": {},
     "output_type": "execute_result"
    },
    {
     "data": {
      "image/png": "[encoded data removed]",
      "text/plain": [
       "<Figure size 432x288 with 1 Axes>"
      ]
     },
     "metadata": {
      "needs_background": "light"
     },
     "output_type": "display_data"
    }
   ],
   "source": [
    "cumulative_rev_count = np.cumsum(sorted(df.groupby('user_id').agg({'business_id': len}).business_id.values, reverse=True))\n",
    "g = plt.plot(cumulative_rev_count / float(cumulative_rev_count[-1]))\n",
    "g[0].axes.set(xlabel='# of Users', ylabel='Coverage')"
   ]
  },
  {
   "cell_type": "markdown",
   "metadata": {},
   "source": [
    "## Distribution of reviews counts by users"
   ]
  },
  {
   "cell_type": "code",
   "execution_count": 36,
   "metadata": {},
   "outputs": [
    {
     "data": {
      "text/plain": [
       "(array([8.861e+03, 4.710e+02, 1.800e+01, 4.000e+00, 1.000e+00, 0.000e+00,\n",
       "        1.000e+00, 0.000e+00, 0.000e+00, 0.000e+00, 0.000e+00, 0.000e+00,\n",
       "        0.000e+00, 0.000e+00]),\n",
       " array([ 0,  2,  4,  6,  8, 10, 12, 14, 16, 18, 20, 22, 24, 26, 28]),\n",
       " <BarContainer object of 14 artists>)"
      ]
     },
     "execution_count": 36,
     "metadata": {},
     "output_type": "execute_result"
    },
    {
     "data": {
      "image/png": "[encoded data removed]",
      "text/plain": [
       "<Figure size 432x288 with 1 Axes>"
      ]
     },
     "metadata": {
      "needs_background": "light"
     },
     "output_type": "display_data"
    }
   ],
   "source": [
    "plt.hist(df.groupby('user_id').agg({'business_id': len}).business_id.values, bins=range(0,30,2))"
   ]
  },
  {
   "cell_type": "code",
   "execution_count": null,
   "metadata": {
    "collapsed": true
   },
   "outputs": [],
   "source": []
  }
 ],
 "metadata": {
  "anaconda-cloud": {},
  "kernelspec": {
   "display_name": "test",
   "language": "python",
   "name": "test"
  },
  "language_info": {
   "codemirror_mode": {
    "name": "ipython",
    "version": 3
   },
   "file_extension": ".py",
   "mimetype": "text/x-python",
   "name": "python",
   "nbconvert_exporter": "python",
   "pygments_lexer": "ipython3",
   "version": "3.8.8"
  }
 },
 "nbformat": 4,
 "nbformat_minor": 1
}
